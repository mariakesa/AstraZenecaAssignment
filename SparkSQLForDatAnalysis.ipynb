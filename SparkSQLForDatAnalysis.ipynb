{
 "cells": [
  {
   "cell_type": "code",
   "execution_count": 2,
   "metadata": {
    "scrolled": true
   },
   "outputs": [
    {
     "name": "stdout",
     "output_type": "stream",
     "text": [
      "Row(_c0=0, medications=\"['OROKEN (CEFIXIME, UNSPEC)', 'OFLOXACIN', 'PYOSTACINE (PRISTINAMYCIN)', 'ROCEPHIN']\", adverse_reactions=\"['OEDEMA PERIPHERAL', 'ARTHRALGIA', 'PURPURA']\", serious=1, death=None, disabling=None, country=None, meds_str='OROKEN (CEFIXIME, UNSPEC) OFLOXACIN PYOSTACINE (PRISTINAMYCIN) ROCEPHIN', reacts_str='OEDEMA PERIPHERAL ARTHRALGIA PURPURA', flat_meds='OROKEN (CEFIXIME, UNSPEC)')\n",
      "root\n",
      " |-- _c0: integer (nullable = true)\n",
      " |-- medications: string (nullable = true)\n",
      " |-- adverse_reactions: string (nullable = true)\n",
      " |-- serious: integer (nullable = true)\n",
      " |-- death: integer (nullable = true)\n",
      " |-- disabling: integer (nullable = true)\n",
      " |-- country: string (nullable = true)\n",
      " |-- meds_str: string (nullable = true)\n",
      " |-- reacts_str: string (nullable = true)\n",
      " |-- flat_meds: string (nullable = true)\n",
      "\n",
      "None\n",
      "['_c0', 'medications', 'adverse_reactions', 'serious', 'death', 'disabling', 'country', 'meds_str', 'reacts_str', 'flat_meds']\n"
     ]
    }
   ],
   "source": [
    "from pyspark.sql.types import *\n",
    "\n",
    "from pyspark.sql import SparkSession\n",
    "\n",
    "spark = SparkSession \\\n",
    "    .builder \\\n",
    "    .appName(\"DrugData\") \\\n",
    "    .config(\"spark.some.config.option\", \"x\") \\\n",
    "    .getOrCreate()\n",
    "\n",
    "\n",
    "\n",
    "base = spark.read.csv(\"25100_flat.csv\",inferSchema=True,header=True)\n",
    "print(base.head())\n",
    "print(base.printSchema())\n",
    "print(base.columns)"
   ]
  },
  {
   "cell_type": "code",
   "execution_count": 9,
   "metadata": {},
   "outputs": [
    {
     "name": "stdout",
     "output_type": "stream",
     "text": [
      "+-----------+-------------------+\n",
      "|freq_of_med|          flat_meds|\n",
      "+-----------+-------------------+\n",
      "|       1996|           LETAIRIS|\n",
      "|       1812|            LIPITOR|\n",
      "|       1294|             JAKAFI|\n",
      "|        627|          TECFIDERA|\n",
      "|        590|             AVONEX|\n",
      "|        575|            TYSABRI|\n",
      "|        564|DIANEAL LOW CALCIUM|\n",
      "|        540|            ERBITUX|\n",
      "|        536|            ASPIRIN|\n",
      "|        458|             LYRICA|\n",
      "|        360|            SPIRIVA|\n",
      "|        351|         OMEPRAZOLE|\n",
      "|        334|             HUMIRA|\n",
      "|        331|            ADCIRCA|\n",
      "|        331|          METFORMIN|\n",
      "|        323|             PLAVIX|\n",
      "|        317|             MIRENA|\n",
      "|        316|         LISINOPRIL|\n",
      "|        304|       METHOTREXATE|\n",
      "|        301|         PREDNISONE|\n",
      "+-----------+-------------------+\n",
      "only showing top 20 rows\n",
      "\n",
      "None\n"
     ]
    }
   ],
   "source": [
    "base.createOrReplaceTempView(\"meds\")\n",
    "qur_arr=spark.sql(\"SELECT COUNT(*) as freq_of_med, flat_meds FROM meds GROUP BY flat_meds ORDER BY freq_of_med desc\")\n",
    "print(qur_arr.show())"
   ]
  },
  {
   "cell_type": "code",
   "execution_count": 11,
   "metadata": {
    "scrolled": true
   },
   "outputs": [
    {
     "name": "stdout",
     "output_type": "stream",
     "text": [
      "+-----------+-------------------+\n",
      "|freq_of_med|          flat_meds|\n",
      "+-----------+-------------------+\n",
      "|         83|           REVLIMID|\n",
      "|         67|             XELODA|\n",
      "|         49|DIANEAL LOW CALCIUM|\n",
      "|         45|            HOLOXAN|\n",
      "|         43|           TRACLEER|\n",
      "|         43|             PLAVIX|\n",
      "|         41|          RITUXIMAB|\n",
      "|         38|            ERBITUX|\n",
      "|         37|      DEXAMETHASONE|\n",
      "|         37|             GLIVEC|\n",
      "|         37|           LETAIRIS|\n",
      "|         34|   ERLOTINIB TABLET|\n",
      "|         32|             PROLIA|\n",
      "|         32|              XGEVA|\n",
      "|         32|             HUMIRA|\n",
      "|         32|            XARELTO|\n",
      "|         31|         PREDNISONE|\n",
      "|         30|            ASPIRIN|\n",
      "|         29|            PRADAXA|\n",
      "|         29|            LIPITOR|\n",
      "+-----------+-------------------+\n",
      "only showing top 20 rows\n",
      "\n",
      "None\n"
     ]
    }
   ],
   "source": [
    "top_death_meds=spark.sql(\"SELECT COUNT(*) as freq_of_med, flat_meds FROM meds WHERE death=1 GROUP BY flat_meds ORDER BY freq_of_med desc\")\n",
    "print(top_death_meds.show())"
   ]
  },
  {
   "cell_type": "code",
   "execution_count": 13,
   "metadata": {},
   "outputs": [
    {
     "name": "stdout",
     "output_type": "stream",
     "text": [
      "+-----------+--------------------+\n",
      "|freq_of_med|           flat_meds|\n",
      "+-----------+--------------------+\n",
      "|         63|            OMNISCAN|\n",
      "|         40|              PLAVIX|\n",
      "|         29|             LIPITOR|\n",
      "|         24|          OMEPRAZOLE|\n",
      "|         23|            ASPIRIN.|\n",
      "|         22|           MAGNEVIST|\n",
      "|         21|             ASPIRIN|\n",
      "|         20|          AMLODIPINE|\n",
      "|         18|GADOLINIUM (UNSPE...|\n",
      "|         16|          PREDNISONE|\n",
      "|         16|           METFORMIN|\n",
      "|         16|         SIMVASTATIN|\n",
      "|         15|        ATORVASTATIN|\n",
      "|         15|              EPOGEN|\n",
      "|         12|             FOSAMAX|\n",
      "|         12|          FOLIC ACID|\n",
      "|         11|         PARACETAMOL|\n",
      "|         11|             NORVASC|\n",
      "|         11|        METHOTREXATE|\n",
      "|         10|             CRESTOR|\n",
      "+-----------+--------------------+\n",
      "only showing top 20 rows\n",
      "\n",
      "None\n"
     ]
    }
   ],
   "source": [
    "top_disab_meds=spark.sql(\"SELECT COUNT(*) as freq_of_med, flat_meds FROM meds WHERE disabling=1 GROUP BY flat_meds ORDER BY freq_of_med desc\")\n",
    "print(top_disab_meds.show())"
   ]
  }
 ],
 "metadata": {
  "kernelspec": {
   "display_name": "Python 3",
   "language": "python",
   "name": "python3"
  },
  "language_info": {
   "codemirror_mode": {
    "name": "ipython",
    "version": 3
   },
   "file_extension": ".py",
   "mimetype": "text/x-python",
   "name": "python",
   "nbconvert_exporter": "python",
   "pygments_lexer": "ipython3",
   "version": "3.7.4"
  }
 },
 "nbformat": 4,
 "nbformat_minor": 4
}
