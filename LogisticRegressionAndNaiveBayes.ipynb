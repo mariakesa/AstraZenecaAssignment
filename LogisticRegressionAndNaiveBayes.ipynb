{
 "cells": [
  {
   "cell_type": "code",
   "execution_count": 1,
   "metadata": {},
   "outputs": [],
   "source": [
    "import pandas as pd\n",
    "from sklearn.feature_extraction.text import CountVectorizer\n",
    "import matplotlib.pyplot as plt\n",
    "import numpy as np\n",
    "from sklearn.naive_bayes import MultinomialNB\n",
    "from sklearn.model_selection import train_test_split\n",
    "from sklearn.decomposition import PCA\n",
    "from sklearn.linear_model import LogisticRegression\n",
    "from sklearn.utils import resample\n",
    "from sklearn.metrics import accuracy_score\n",
    "from sklearn.metrics import confusion_matrix\n",
    "from sklearn.metrics import r2_score\n",
    "from sklearn.model_selection import KFold\n",
    "from scipy import stats"
   ]
  },
  {
   "cell_type": "markdown",
   "metadata": {},
   "source": [
    "# Data preparation"
   ]
  },
  {
   "cell_type": "code",
   "execution_count": 2,
   "metadata": {},
   "outputs": [],
   "source": [
    "tot_df=pd.read_csv('25100_dat.csv')"
   ]
  },
  {
   "cell_type": "code",
   "execution_count": 3,
   "metadata": {},
   "outputs": [],
   "source": [
    "def feature_transform(tot_df):\n",
    "    corpus_meds=tot_df['meds_str'].values\n",
    "    corpus_reacts=tot_df['reacts_str'].values\n",
    "    \n",
    "    c_med = CountVectorizer(stop_words=['death'])\n",
    "    med_feats = c_med.fit_transform(corpus_meds).toarray()\n",
    "    \n",
    "    c_r=CountVectorizer(stop_words=['death'])\n",
    "    reacts_feats=c_r.fit_transform(corpus_reacts).toarray()\n",
    "    \n",
    "    feats=np.concatenate([med_feats,reacts_feats],axis=1)\n",
    "    \n",
    "    return feats,c_med.vocabulary_, c_r.vocabulary_\n",
    "    \n",
    "feats,med_vocab,reacts_vocab=feature_transform(tot_df)"
   ]
  },
  {
   "cell_type": "code",
   "execution_count": 4,
   "metadata": {
    "scrolled": true
   },
   "outputs": [
    {
     "name": "stdout",
     "output_type": "stream",
     "text": [
      "       death\n",
      "0        0.0\n",
      "1        1.0\n",
      "2        0.0\n",
      "3        0.0\n",
      "4        0.0\n",
      "...      ...\n",
      "25095    0.0\n",
      "25096    0.0\n",
      "25097    0.0\n",
      "25098    0.0\n",
      "25099    0.0\n",
      "\n",
      "[25100 rows x 1 columns]\n",
      "(2162, 1)\n"
     ]
    }
   ],
   "source": [
    "targets=tot_df[['death']].fillna(0)\n",
    "print(targets)\n",
    "np.mean(targets)\n",
    "print(targets[targets.death==1].shape)"
   ]
  },
  {
   "cell_type": "code",
   "execution_count": 5,
   "metadata": {},
   "outputs": [],
   "source": [
    "# Separate majority and minority classes\n",
    "df_majority = targets[targets.death==0]\n",
    "df_minority = targets[targets.death==1]\n",
    " \n",
    "#downsample\n",
    "downsampled = resample(df_majority, \n",
    "                                 replace=True,     # sample with replacement\n",
    "                                 n_samples=2162,    # to match majority class\n",
    "                                 random_state=123) "
   ]
  },
  {
   "cell_type": "code",
   "execution_count": 6,
   "metadata": {},
   "outputs": [
    {
     "name": "stdout",
     "output_type": "stream",
     "text": [
      "       death\n",
      "21779    0.0\n",
      "17071    0.0\n",
      "19281    0.0\n",
      "23595    0.0\n",
      "16713    0.0\n",
      "...      ...\n",
      "5936     0.0\n",
      "7182     0.0\n",
      "20052    0.0\n",
      "18979    0.0\n",
      "11709    0.0\n",
      "\n",
      "[2162 rows x 1 columns]\n",
      "Int64Index([21779, 17071, 19281, 23595, 16713,  8326, 14528, 24302,   100,\n",
      "            24751,\n",
      "            ...\n",
      "            19620, 21122,  5357, 22892,  6362,  5936,  7182, 20052, 18979,\n",
      "            11709],\n",
      "           dtype='int64', length=2162)\n",
      "Int64Index([    1,    16,    19,    37,   209,   231,   244,   262,   269,\n",
      "              272,\n",
      "            ...\n",
      "            24988, 24995, 25002, 25009, 25014, 25015, 25020, 25035, 25053,\n",
      "            25074],\n",
      "           dtype='int64', length=2162)\n"
     ]
    }
   ],
   "source": [
    "print(downsampled[downsampled.death==0])\n",
    "downsampled_inds=downsampled[downsampled.death==0].index\n",
    "death_inds=df_minority.index\n",
    "print(downsampled_inds)\n",
    "print(death_inds)"
   ]
  },
  {
   "cell_type": "code",
   "execution_count": 7,
   "metadata": {},
   "outputs": [],
   "source": [
    "feats_no_death=feats[downsampled_inds,:]\n",
    "feats_death=feats[death_inds,:]\n",
    "feats=np.concatenate([feats_no_death,feats_death],axis=0)"
   ]
  },
  {
   "cell_type": "code",
   "execution_count": 8,
   "metadata": {},
   "outputs": [
    {
     "name": "stdout",
     "output_type": "stream",
     "text": [
      "(4324, 1)\n"
     ]
    }
   ],
   "source": [
    "targets=np.concatenate([downsampled.values,df_minority.values],axis=0)\n",
    "print(targets.shape)\n"
   ]
  },
  {
   "cell_type": "code",
   "execution_count": 9,
   "metadata": {},
   "outputs": [],
   "source": [
    "X_train, X_test, y_train, y_test = train_test_split(feats,targets,test_size=0.33)"
   ]
  },
  {
   "cell_type": "markdown",
   "metadata": {},
   "source": [
    "# Logistic Regression"
   ]
  },
  {
   "cell_type": "code",
   "execution_count": 10,
   "metadata": {},
   "outputs": [
    {
     "name": "stdout",
     "output_type": "stream",
     "text": [
      "Explained variance:  0.9593066485215316\n"
     ]
    }
   ],
   "source": [
    "pcs=PCA(n_components=1000)\n",
    "X_train_pcs=pcs.fit_transform(X_train)\n",
    "X_test_pcs=pcs.transform(X_test)\n",
    "print('Explained variance: ',pcs.explained_variance_ratio_.sum())"
   ]
  },
  {
   "cell_type": "code",
   "execution_count": 11,
   "metadata": {},
   "outputs": [
    {
     "name": "stderr",
     "output_type": "stream",
     "text": [
      "/home/maria/anaconda3/lib/python3.7/site-packages/sklearn/utils/validation.py:760: DataConversionWarning: A column-vector y was passed when a 1d array was expected. Please change the shape of y to (n_samples, ), for example using ravel().\n",
      "  y = column_or_1d(y, warn=True)\n"
     ]
    }
   ],
   "source": [
    "clf = LogisticRegression(random_state=0).fit(X_train_pcs, y_train)\n"
   ]
  },
  {
   "cell_type": "code",
   "execution_count": 12,
   "metadata": {},
   "outputs": [
    {
     "data": {
      "text/plain": [
       "0.8002803083391731"
      ]
     },
     "execution_count": 12,
     "metadata": {},
     "output_type": "execute_result"
    }
   ],
   "source": [
    "pred=clf.predict(X_test_pcs)\n",
    "accuracy_score(pred,y_test)"
   ]
  },
  {
   "cell_type": "code",
   "execution_count": 13,
   "metadata": {
    "scrolled": true
   },
   "outputs": [
    {
     "data": {
      "text/plain": [
       "array([[584, 123],\n",
       "       [162, 558]])"
      ]
     },
     "execution_count": 13,
     "metadata": {},
     "output_type": "execute_result"
    }
   ],
   "source": [
    "confusion_matrix(y_test,pred,labels=[1,0])"
   ]
  },
  {
   "cell_type": "code",
   "execution_count": 14,
   "metadata": {},
   "outputs": [
    {
     "data": {
      "text/plain": [
       "0.20105492692126337"
      ]
     },
     "execution_count": 14,
     "metadata": {},
     "output_type": "execute_result"
    }
   ],
   "source": [
    "r2_score(y_test, pred)"
   ]
  },
  {
   "cell_type": "markdown",
   "metadata": {},
   "source": [
    "# Naive Bayes"
   ]
  },
  {
   "cell_type": "code",
   "execution_count": 15,
   "metadata": {},
   "outputs": [
    {
     "name": "stderr",
     "output_type": "stream",
     "text": [
      "/home/maria/anaconda3/lib/python3.7/site-packages/sklearn/utils/validation.py:760: DataConversionWarning: A column-vector y was passed when a 1d array was expected. Please change the shape of y to (n_samples, ), for example using ravel().\n",
      "  y = column_or_1d(y, warn=True)\n"
     ]
    }
   ],
   "source": [
    "clf=MultinomialNB().fit(X_train,y_train)"
   ]
  },
  {
   "cell_type": "code",
   "execution_count": 16,
   "metadata": {},
   "outputs": [
    {
     "data": {
      "text/plain": [
       "0.8065872459705676"
      ]
     },
     "execution_count": 16,
     "metadata": {},
     "output_type": "execute_result"
    }
   ],
   "source": [
    "pred=clf.predict(X_test)\n",
    "accuracy_score(pred,y_test)"
   ]
  },
  {
   "cell_type": "code",
   "execution_count": 17,
   "metadata": {},
   "outputs": [
    {
     "data": {
      "text/plain": [
       "array([[586, 121],\n",
       "       [155, 565]])"
      ]
     },
     "execution_count": 17,
     "metadata": {},
     "output_type": "execute_result"
    }
   ],
   "source": [
    "confusion_matrix(y_test,pred,labels=[1,0])"
   ]
  },
  {
   "cell_type": "code",
   "execution_count": 18,
   "metadata": {
    "scrolled": true
   },
   "outputs": [],
   "source": [
    "#print(med_vocab)\n",
    "#print(reacts_vocab)\n",
    "\n",
    "tot_vocab={}\n",
    "for j in med_vocab.keys():\n",
    "    tot_vocab[med_vocab[j]]=j\n",
    "for i in reacts_vocab.keys():\n",
    "    tot_vocab[reacts_vocab[i]+len(med_vocab.keys())]=i\n",
    "#print(tot_vocab)"
   ]
  },
  {
   "cell_type": "code",
   "execution_count": 19,
   "metadata": {
    "scrolled": false
   },
   "outputs": [
    {
     "name": "stdout",
     "output_type": "stream",
     "text": [
      "(2, 11093)\n",
      "11093\n",
      "[ -6.61159291  -6.49718255  -7.71020519  -6.10076728  -6.77589596\n",
      "  -7.16366149  -5.94921738  -4.82998581  -5.39857027  -6.64236456\n",
      "  -7.16366149  -6.88922464  -4.55902438  -5.50293028  -7.33551174\n",
      "  -7.01705801  -5.45414012  -7.06357803  -9.00948818  -7.91087589\n",
      "  -7.91087589  -8.16219032  -5.91844573  -6.52458153  -5.87399396\n",
      "  -7.21772871  -6.88922464  -7.62319382  -8.49866255  -5.96496574\n",
      "  -8.316341    -6.88922464  -6.64236456  -6.15685675  -7.71020519\n",
      "  -6.27945907  -7.11236819  -7.06357803  -8.316341    -8.49866255\n",
      "  -7.71020519  -5.88859276  -5.96496574  -8.16219032  -6.47051431\n",
      "  -7.21772871  -6.23689946  -7.33551174  -7.71020519  -7.33551174\n",
      "  -9.00948818  -9.00948818  -9.00948818  -8.02865893  -6.52458153\n",
      "  -6.77589596  -6.03056302  -6.15685675  -9.41495329  -9.41495329\n",
      " -10.10810047  -5.20282569  -6.8122636   -7.91087589  -7.01705801\n",
      "  -8.72180611  -6.37043085  -6.88922464  -8.02865893  -7.06357803\n",
      "  -6.88922464  -6.44453882  -8.72180611  -6.97260625  -7.16366149\n",
      "  -7.91087589  -6.41922101  -6.55275241  -6.52458153 -10.10810047\n",
      "  -7.16366149  -7.06357803  -9.41495329  -5.87399396  -7.91087589\n",
      "  -9.00948818  -5.52313299  -6.85000393  -6.58173994  -8.16219032\n",
      "  -8.316341    -9.41495329  -9.00948818  -8.16219032  -6.97260625\n",
      "  -6.21628017  -8.316341    -6.61159291  -8.316341    -7.33551174]\n",
      "failure\n",
      "disease\n",
      "cardiac\n",
      "haemorrhage\n",
      "respiratory\n",
      "acute\n",
      "calcium\n",
      "pain\n",
      "decreased\n",
      "dianeal\n",
      "pulmonary\n",
      "pneumonia\n",
      "drug\n",
      "disorder\n",
      "progression\n",
      "renal\n",
      "increased\n",
      "to\n",
      "arrest\n",
      "infarction\n",
      "myocardial\n",
      "revlimid\n",
      "infection\n",
      "low\n",
      "blood\n",
      "neoplasm\n",
      "malignant\n",
      "hepatic\n",
      "sepsis\n",
      "abdominal\n",
      "xeloda\n",
      "gastrointestinal\n",
      "syndrome\n",
      "sodium\n",
      "lung\n",
      "aspirin\n",
      "cell\n",
      "prednisone\n",
      "carcinoma\n",
      "chronic\n",
      "dexamethasone\n",
      "of\n",
      "dyspnoea\n",
      "shock\n",
      "oedema\n",
      "cancer\n",
      "hydrochloride\n",
      "acetaminophen\n",
      "furosemide\n",
      "overdose\n",
      "suicide\n",
      "dextrose\n",
      "with\n",
      "tracleer\n",
      "injury\n",
      "metformin\n",
      "vitamin\n",
      "acid\n",
      "organ\n",
      "erlotinib\n",
      "metastases\n",
      "letairis\n",
      "anaemia\n",
      "solution\n",
      "hypotension\n",
      "pancreatic\n",
      "in\n",
      "asthenia\n",
      "toxicity\n",
      "hypertension\n",
      "omeprazole\n",
      "use\n",
      "cerebral\n",
      "hcl\n",
      "thrombosis\n",
      "physical\n",
      "diarrhoea\n",
      "off\n",
      "label\n",
      "completed\n",
      "plavix\n",
      "fall\n",
      "metastatic\n",
      "fatigue\n",
      "fentanyl\n",
      "rituximab\n",
      "ineffective\n",
      "fracture\n",
      "erbitux\n",
      "various\n",
      "prednisolone\n",
      "holoxan\n",
      "cyclophosphamide\n",
      "agents\n",
      "sulfate\n",
      "abnormal\n",
      "deterioration\n",
      "exposure\n",
      "health\n",
      "humira\n"
     ]
    }
   ],
   "source": [
    "print(clf.feature_log_prob_.shape)\n",
    "print(len(tot_vocab.keys()))\n",
    "probs=clf.feature_log_prob_\n",
    "top_death_class=probs[1,:].argsort()[-100:][::-1]\n",
    "print(probs[0,top_death_class])\n",
    "for j in top_death_class:\n",
    "    print(tot_vocab[j])"
   ]
  },
  {
   "cell_type": "markdown",
   "metadata": {},
   "source": [
    "# K-fold crossvalidation"
   ]
  },
  {
   "cell_type": "code",
   "execution_count": null,
   "metadata": {},
   "outputs": [],
   "source": [
    "kf = KFold(n_splits=10,shuffle=True)\n",
    "\n",
    "acc_lst_lr=[]\n",
    "acc_lst_nb=[]\n",
    "for train_index, test_index in kf.split(feats):\n",
    "    \n",
    "    X_train, X_test = feats[train_index], feats[test_index]\n",
    "    y_train, y_test = targets[train_index].reshape(-1,), targets[test_index].reshape(-1,)\n",
    "    pcs=PCA(n_components=1000)\n",
    "    X_train_pcs=pcs.fit_transform(X_train)\n",
    "    X_test_pcs=pcs.transform(X_test)\n",
    "    clf = LogisticRegression(random_state=0).fit(X_train_pcs, y_train)\n",
    "    pred=clf.predict(X_test_pcs)\n",
    "    acc_lst_lr.append(accuracy_score(pred,y_test))\n",
    "    clf=MultinomialNB().fit(X_train,y_train)\n",
    "    pred=clf.predict(X_test)\n",
    "    acc_lst_nb.append(accuracy_score(pred,y_test))\n",
    "\n",
    "print('Logistic regression k-fold accuracies:', acc_lst_lr)\n",
    "print('Naive Bayes k-fold accuracies:', acc_lst_nb)\n",
    "    "
   ]
  },
  {
   "cell_type": "code",
   "execution_count": null,
   "metadata": {
    "scrolled": false
   },
   "outputs": [],
   "source": [
    "print('Logistic regression accuracy 95% confidence interval:', np.mean(acc_lst_lr)-2.262*(np.std(acc_lst_lr,ddof=1)/np.sqrt(10)),np.mean(acc_lst_lr)+2.262*(np.std(acc_lst_lr,ddof=1)/np.sqrt(10)))\n",
    "print('Naive Bayes accuracy 95% confidence interval:', np.mean(acc_lst_nb)-2.262*(np.std(acc_lst_nb,ddof=1)/np.sqrt(10)),np.mean(acc_lst_nb)+2.262*(np.std(acc_lst_nb,ddof=1)/np.sqrt(10)))"
   ]
  },
  {
   "cell_type": "markdown",
   "metadata": {},
   "source": [
    "The following t-test for testing between the differences of two mean accuracies is not valid. The samples are not independent in k-fold cross-validation. The following procedure is know to lead to a lot of Type I errors (incorrectly rejecting the null). However, we can the p-value as an approximation."
   ]
  },
  {
   "cell_type": "code",
   "execution_count": null,
   "metadata": {},
   "outputs": [],
   "source": [
    "#Statistical test to determine whether there is a significant difference in classification accuracies for logistic\n",
    "#regression and naive bayes\n",
    "#Calculated according to a blog post https://towardsdatascience.com/inferential-statistics-series-t-test-using-numpy-2718f8f9bf2f\n",
    "var_lr = np.array(acc_lst_lr).var(ddof=1)\n",
    "var_nb = np.array(acc_lst_nb).var(ddof=1)\n",
    "#std deviation\n",
    "s = np.sqrt((var_lr + var_nb)/2)\n",
    "## Calculate the t-statistics\n",
    "N=10\n",
    "t = (np.array(acc_lst_lr).mean() - np.array(acc_lst_nb).mean())/(s*np.sqrt(2/N))\n",
    "\n",
    "## Compare with the critical t-value\n",
    "#Degrees of freedom\n",
    "df = 2*N - 2\n",
    "\n",
    "#p-value after comparison with the t \n",
    "p = 2*(1 - stats.t.cdf(t,df=df))\n",
    "\n",
    "t2, p2 = stats.ttest_ind(np.array(acc_lst_lr),np.array(acc_lst_nb))\n",
    "print(p,p2)"
   ]
  },
  {
   "cell_type": "code",
   "execution_count": null,
   "metadata": {},
   "outputs": [],
   "source": [
    "print('P-value of the t-test between classification accuracies', p)"
   ]
  }
 ],
 "metadata": {
  "kernelspec": {
   "display_name": "Python 3",
   "language": "python",
   "name": "python3"
  },
  "language_info": {
   "codemirror_mode": {
    "name": "ipython",
    "version": 3
   },
   "file_extension": ".py",
   "mimetype": "text/x-python",
   "name": "python",
   "nbconvert_exporter": "python",
   "pygments_lexer": "ipython3",
   "version": "3.7.4"
  }
 },
 "nbformat": 4,
 "nbformat_minor": 4
}
