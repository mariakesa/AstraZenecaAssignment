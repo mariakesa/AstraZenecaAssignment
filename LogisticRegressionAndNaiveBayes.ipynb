{
 "cells": [
  {
   "cell_type": "code",
   "execution_count": 103,
   "metadata": {},
   "outputs": [],
   "source": [
    "import pandas as pd\n",
    "from sklearn.feature_extraction.text import CountVectorizer\n",
    "import matplotlib.pyplot as plt\n",
    "import numpy as np\n",
    "from sklearn.naive_bayes import MultinomialNB\n",
    "from sklearn.model_selection import train_test_split\n",
    "from sklearn.decomposition import PCA\n",
    "from sklearn.linear_model import LogisticRegression\n",
    "from sklearn.utils import resample\n",
    "from sklearn.metrics import accuracy_score\n",
    "from sklearn.metrics import confusion_matrix"
   ]
  },
  {
   "cell_type": "markdown",
   "metadata": {},
   "source": [
    "# Data preparation"
   ]
  },
  {
   "cell_type": "code",
   "execution_count": 2,
   "metadata": {},
   "outputs": [],
   "source": [
    "tot_df=pd.read_csv('25100_dat.csv')"
   ]
  },
  {
   "cell_type": "code",
   "execution_count": 85,
   "metadata": {},
   "outputs": [
    {
     "name": "stdout",
     "output_type": "stream",
     "text": [
      "(25100, 7980)\n",
      "(25100, 3114)\n"
     ]
    }
   ],
   "source": [
    "def feature_transform(tot_df):\n",
    "    corpus_meds=tot_df['meds_str'].values\n",
    "    corpus_reacts=tot_df['reacts_str'].values\n",
    "\n",
    "    c_med = CountVectorizer()\n",
    "    med_feats = c_med.fit_transform(corpus_meds).toarray()\n",
    "    print(med_feats.shape)\n",
    "    \n",
    "    c_r=CountVectorizer()\n",
    "    reacts_feats=c_r.fit_transform(corpus_reacts).toarray()\n",
    "    print(reacts_feats.shape)\n",
    "    \n",
    "    feats=np.concatenate([med_feats,reacts_feats],axis=1)\n",
    "    return feats\n",
    "    \n",
    "feats=feature_transform(tot_df)"
   ]
  },
  {
   "cell_type": "code",
   "execution_count": 86,
   "metadata": {
    "scrolled": true
   },
   "outputs": [
    {
     "name": "stdout",
     "output_type": "stream",
     "text": [
      "       death\n",
      "0        0.0\n",
      "1        1.0\n",
      "2        0.0\n",
      "3        0.0\n",
      "4        0.0\n",
      "...      ...\n",
      "25095    0.0\n",
      "25096    0.0\n",
      "25097    0.0\n",
      "25098    0.0\n",
      "25099    0.0\n",
      "\n",
      "[25100 rows x 1 columns]\n",
      "(2162, 1)\n"
     ]
    }
   ],
   "source": [
    "targets=tot_df[['death']].fillna(0)\n",
    "print(targets)\n",
    "np.mean(targets)\n",
    "print(targets[targets.death==1].shape)"
   ]
  },
  {
   "cell_type": "code",
   "execution_count": 87,
   "metadata": {},
   "outputs": [],
   "source": [
    "# Separate majority and minority classes\n",
    "df_majority = targets[targets.death==0]\n",
    "df_minority = targets[targets.death==1]\n",
    " \n",
    "#downsample\n",
    "downsampled = resample(df_majority, \n",
    "                                 replace=True,     # sample with replacement\n",
    "                                 n_samples=2162,    # to match majority class\n",
    "                                 random_state=123) "
   ]
  },
  {
   "cell_type": "code",
   "execution_count": 88,
   "metadata": {},
   "outputs": [
    {
     "name": "stdout",
     "output_type": "stream",
     "text": [
      "       death\n",
      "21779    0.0\n",
      "17071    0.0\n",
      "19281    0.0\n",
      "23595    0.0\n",
      "16713    0.0\n",
      "...      ...\n",
      "5936     0.0\n",
      "7182     0.0\n",
      "20052    0.0\n",
      "18979    0.0\n",
      "11709    0.0\n",
      "\n",
      "[2162 rows x 1 columns]\n",
      "Int64Index([21779, 17071, 19281, 23595, 16713,  8326, 14528, 24302,   100,\n",
      "            24751,\n",
      "            ...\n",
      "            19620, 21122,  5357, 22892,  6362,  5936,  7182, 20052, 18979,\n",
      "            11709],\n",
      "           dtype='int64', length=2162)\n",
      "Int64Index([    1,    16,    19,    37,   209,   231,   244,   262,   269,\n",
      "              272,\n",
      "            ...\n",
      "            24988, 24995, 25002, 25009, 25014, 25015, 25020, 25035, 25053,\n",
      "            25074],\n",
      "           dtype='int64', length=2162)\n"
     ]
    }
   ],
   "source": [
    "print(downsampled[downsampled.death==0])\n",
    "downsampled_inds=downsampled[downsampled.death==0].index\n",
    "death_inds=df_minority.index\n",
    "print(downsampled_inds)\n",
    "print(death_inds)"
   ]
  },
  {
   "cell_type": "code",
   "execution_count": 89,
   "metadata": {},
   "outputs": [],
   "source": [
    "feats_no_death=feats[downsampled_inds,:]\n",
    "feats_death=feats[death_inds,:]\n",
    "feats=np.concatenate([feats_no_death,feats_death],axis=0)"
   ]
  },
  {
   "cell_type": "code",
   "execution_count": 90,
   "metadata": {},
   "outputs": [
    {
     "name": "stdout",
     "output_type": "stream",
     "text": [
      "(4324, 1)\n"
     ]
    }
   ],
   "source": [
    "targets=np.concatenate([downsampled.values,df_minority.values],axis=0)\n",
    "print(targets.shape)\n"
   ]
  },
  {
   "cell_type": "code",
   "execution_count": 91,
   "metadata": {},
   "outputs": [],
   "source": [
    "X_train, X_test, y_train, y_test = train_test_split(feats,targets,test_size=0.33)"
   ]
  },
  {
   "cell_type": "markdown",
   "metadata": {},
   "source": [
    "# Logistic Regression"
   ]
  },
  {
   "cell_type": "code",
   "execution_count": 118,
   "metadata": {},
   "outputs": [],
   "source": [
    "pcs=PCA(n_components=50)\n",
    "X_train_pcs=pcs.fit_transform(X_train)\n",
    "X_test_pcs=pcs.transform(X_test)"
   ]
  },
  {
   "cell_type": "code",
   "execution_count": 119,
   "metadata": {},
   "outputs": [
    {
     "name": "stderr",
     "output_type": "stream",
     "text": [
      "/home/maria/anaconda3/lib/python3.7/site-packages/sklearn/utils/validation.py:760: DataConversionWarning: A column-vector y was passed when a 1d array was expected. Please change the shape of y to (n_samples, ), for example using ravel().\n",
      "  y = column_or_1d(y, warn=True)\n"
     ]
    }
   ],
   "source": [
    "clf = LogisticRegression(random_state=0).fit(X_train_pcs, y_train)\n"
   ]
  },
  {
   "cell_type": "code",
   "execution_count": 120,
   "metadata": {},
   "outputs": [
    {
     "data": {
      "text/plain": [
       "0.8605466012613875"
      ]
     },
     "execution_count": 120,
     "metadata": {},
     "output_type": "execute_result"
    }
   ],
   "source": [
    "pred=clf.predict(X_test_pcs)\n",
    "accuracy_score(pred,y_test)"
   ]
  },
  {
   "cell_type": "code",
   "execution_count": 121,
   "metadata": {},
   "outputs": [
    {
     "data": {
      "text/plain": [
       "array([[583, 142],\n",
       "       [ 57, 645]])"
      ]
     },
     "execution_count": 121,
     "metadata": {},
     "output_type": "execute_result"
    }
   ],
   "source": [
    "confusion_matrix(y_test,pred,labels=[1,0])"
   ]
  },
  {
   "cell_type": "markdown",
   "metadata": {},
   "source": [
    "# Naive Bayes"
   ]
  },
  {
   "cell_type": "code",
   "execution_count": 112,
   "metadata": {},
   "outputs": [
    {
     "name": "stderr",
     "output_type": "stream",
     "text": [
      "/home/maria/anaconda3/lib/python3.7/site-packages/sklearn/utils/validation.py:760: DataConversionWarning: A column-vector y was passed when a 1d array was expected. Please change the shape of y to (n_samples, ), for example using ravel().\n",
      "  y = column_or_1d(y, warn=True)\n"
     ]
    }
   ],
   "source": [
    "clf=MultinomialNB().fit(X_train,y_train)"
   ]
  },
  {
   "cell_type": "code",
   "execution_count": 114,
   "metadata": {},
   "outputs": [
    {
     "data": {
      "text/plain": [
       "0.8612473721093202"
      ]
     },
     "execution_count": 114,
     "metadata": {},
     "output_type": "execute_result"
    }
   ],
   "source": [
    "pred=clf.predict(X_test)\n",
    "accuracy_score(pred,y_test)"
   ]
  },
  {
   "cell_type": "code",
   "execution_count": 117,
   "metadata": {},
   "outputs": [
    {
     "data": {
      "text/plain": [
       "array([[662,  63],\n",
       "       [135, 567]])"
      ]
     },
     "execution_count": 117,
     "metadata": {},
     "output_type": "execute_result"
    }
   ],
   "source": [
    "confusion_matrix(y_test,pred,labels=[1,0])"
   ]
  }
 ],
 "metadata": {
  "kernelspec": {
   "display_name": "Python 3",
   "language": "python",
   "name": "python3"
  },
  "language_info": {
   "codemirror_mode": {
    "name": "ipython",
    "version": 3
   },
   "file_extension": ".py",
   "mimetype": "text/x-python",
   "name": "python",
   "nbconvert_exporter": "python",
   "pygments_lexer": "ipython3",
   "version": "3.7.4"
  }
 },
 "nbformat": 4,
 "nbformat_minor": 4
}
