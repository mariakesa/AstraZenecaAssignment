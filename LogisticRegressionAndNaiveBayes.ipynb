{
 "cells": [
  {
   "cell_type": "code",
   "execution_count": 25,
   "metadata": {},
   "outputs": [],
   "source": [
    "import pandas as pd\n",
    "from sklearn.feature_extraction.text import CountVectorizer\n",
    "import matplotlib.pyplot as plt\n",
    "import numpy as np\n",
    "from sklearn.naive_bayes import MultinomialNB\n",
    "from sklearn.model_selection import train_test_split\n",
    "from sklearn.decomposition import PCA\n",
    "from sklearn.linear_model import LogisticRegression\n",
    "from sklearn.utils import resample\n",
    "from sklearn.metrics import accuracy_score\n",
    "from sklearn.metrics import confusion_matrix\n",
    "from sklearn.metrics import r2_score\n",
    "from sklearn.model_selection import KFold\n",
    "from scipy import stats"
   ]
  },
  {
   "cell_type": "markdown",
   "metadata": {},
   "source": [
    "# Data preparation"
   ]
  },
  {
   "cell_type": "code",
   "execution_count": 5,
   "metadata": {},
   "outputs": [],
   "source": [
    "tot_df=pd.read_csv('25100_dat.csv')"
   ]
  },
  {
   "cell_type": "code",
   "execution_count": 6,
   "metadata": {},
   "outputs": [],
   "source": [
    "def feature_transform(tot_df):\n",
    "    corpus_meds=tot_df['meds_str'].values\n",
    "    corpus_reacts=tot_df['reacts_str'].values\n",
    "    \n",
    "    c_med = CountVectorizer()\n",
    "    med_feats = c_med.fit_transform(corpus_meds).toarray()\n",
    "    \n",
    "    c_r=CountVectorizer()\n",
    "    reacts_feats=c_r.fit_transform(corpus_reacts).toarray()\n",
    "    \n",
    "    feats=np.concatenate([med_feats,reacts_feats],axis=1)\n",
    "    \n",
    "    return feats,c_med.vocabulary_, c_r.vocabulary_\n",
    "    \n",
    "feats,med_vocab,reacts_vocab=feature_transform(tot_df)"
   ]
  },
  {
   "cell_type": "code",
   "execution_count": 7,
   "metadata": {
    "scrolled": true
   },
   "outputs": [
    {
     "name": "stdout",
     "output_type": "stream",
     "text": [
      "       death\n",
      "0        0.0\n",
      "1        1.0\n",
      "2        0.0\n",
      "3        0.0\n",
      "4        0.0\n",
      "...      ...\n",
      "25095    0.0\n",
      "25096    0.0\n",
      "25097    0.0\n",
      "25098    0.0\n",
      "25099    0.0\n",
      "\n",
      "[25100 rows x 1 columns]\n",
      "(2162, 1)\n"
     ]
    }
   ],
   "source": [
    "targets=tot_df[['death']].fillna(0)\n",
    "print(targets)\n",
    "np.mean(targets)\n",
    "print(targets[targets.death==1].shape)"
   ]
  },
  {
   "cell_type": "code",
   "execution_count": 8,
   "metadata": {},
   "outputs": [],
   "source": [
    "# Separate majority and minority classes\n",
    "df_majority = targets[targets.death==0]\n",
    "df_minority = targets[targets.death==1]\n",
    " \n",
    "#downsample\n",
    "downsampled = resample(df_majority, \n",
    "                                 replace=True,     # sample with replacement\n",
    "                                 n_samples=2162,    # to match majority class\n",
    "                                 random_state=123) "
   ]
  },
  {
   "cell_type": "code",
   "execution_count": 9,
   "metadata": {},
   "outputs": [
    {
     "name": "stdout",
     "output_type": "stream",
     "text": [
      "       death\n",
      "21779    0.0\n",
      "17071    0.0\n",
      "19281    0.0\n",
      "23595    0.0\n",
      "16713    0.0\n",
      "...      ...\n",
      "5936     0.0\n",
      "7182     0.0\n",
      "20052    0.0\n",
      "18979    0.0\n",
      "11709    0.0\n",
      "\n",
      "[2162 rows x 1 columns]\n",
      "Int64Index([21779, 17071, 19281, 23595, 16713,  8326, 14528, 24302,   100,\n",
      "            24751,\n",
      "            ...\n",
      "            19620, 21122,  5357, 22892,  6362,  5936,  7182, 20052, 18979,\n",
      "            11709],\n",
      "           dtype='int64', length=2162)\n",
      "Int64Index([    1,    16,    19,    37,   209,   231,   244,   262,   269,\n",
      "              272,\n",
      "            ...\n",
      "            24988, 24995, 25002, 25009, 25014, 25015, 25020, 25035, 25053,\n",
      "            25074],\n",
      "           dtype='int64', length=2162)\n"
     ]
    }
   ],
   "source": [
    "print(downsampled[downsampled.death==0])\n",
    "downsampled_inds=downsampled[downsampled.death==0].index\n",
    "death_inds=df_minority.index\n",
    "print(downsampled_inds)\n",
    "print(death_inds)"
   ]
  },
  {
   "cell_type": "code",
   "execution_count": 10,
   "metadata": {},
   "outputs": [],
   "source": [
    "feats_no_death=feats[downsampled_inds,:]\n",
    "feats_death=feats[death_inds,:]\n",
    "feats=np.concatenate([feats_no_death,feats_death],axis=0)"
   ]
  },
  {
   "cell_type": "code",
   "execution_count": 11,
   "metadata": {},
   "outputs": [
    {
     "name": "stdout",
     "output_type": "stream",
     "text": [
      "(4324, 1)\n"
     ]
    }
   ],
   "source": [
    "targets=np.concatenate([downsampled.values,df_minority.values],axis=0)\n",
    "print(targets.shape)\n"
   ]
  },
  {
   "cell_type": "code",
   "execution_count": 91,
   "metadata": {},
   "outputs": [],
   "source": [
    "X_train, X_test, y_train, y_test = train_test_split(feats,targets,test_size=0.33)"
   ]
  },
  {
   "cell_type": "markdown",
   "metadata": {},
   "source": [
    "# Logistic Regression"
   ]
  },
  {
   "cell_type": "code",
   "execution_count": 140,
   "metadata": {},
   "outputs": [
    {
     "name": "stdout",
     "output_type": "stream",
     "text": [
      "Explained variance:  0.9570552004058386\n"
     ]
    }
   ],
   "source": [
    "pcs=PCA(n_components=1000)\n",
    "X_train_pcs=pcs.fit_transform(X_train)\n",
    "X_test_pcs=pcs.transform(X_test)\n",
    "print('Explained variance: ',pcs.explained_variance_ratio_.sum())"
   ]
  },
  {
   "cell_type": "code",
   "execution_count": 141,
   "metadata": {},
   "outputs": [
    {
     "name": "stderr",
     "output_type": "stream",
     "text": [
      "/home/maria/anaconda3/lib/python3.7/site-packages/sklearn/utils/validation.py:760: DataConversionWarning: A column-vector y was passed when a 1d array was expected. Please change the shape of y to (n_samples, ), for example using ravel().\n",
      "  y = column_or_1d(y, warn=True)\n"
     ]
    }
   ],
   "source": [
    "clf = LogisticRegression(random_state=0).fit(X_train_pcs, y_train)\n"
   ]
  },
  {
   "cell_type": "code",
   "execution_count": 142,
   "metadata": {},
   "outputs": [
    {
     "data": {
      "text/plain": [
       "0.8857743517869656"
      ]
     },
     "execution_count": 142,
     "metadata": {},
     "output_type": "execute_result"
    }
   ],
   "source": [
    "pred=clf.predict(X_test_pcs)\n",
    "accuracy_score(pred,y_test)"
   ]
  },
  {
   "cell_type": "code",
   "execution_count": 143,
   "metadata": {
    "scrolled": true
   },
   "outputs": [
    {
     "data": {
      "text/plain": [
       "array([[624, 101],\n",
       "       [ 62, 640]])"
      ]
     },
     "execution_count": 143,
     "metadata": {},
     "output_type": "execute_result"
    }
   ],
   "source": [
    "confusion_matrix(y_test,pred,labels=[1,0])"
   ]
  },
  {
   "cell_type": "code",
   "execution_count": 251,
   "metadata": {},
   "outputs": [
    {
     "data": {
      "text/plain": [
       "0.44484526967285576"
      ]
     },
     "execution_count": 251,
     "metadata": {},
     "output_type": "execute_result"
    }
   ],
   "source": [
    "r2_score(y_test, pred)"
   ]
  },
  {
   "cell_type": "markdown",
   "metadata": {},
   "source": [
    "# Naive Bayes"
   ]
  },
  {
   "cell_type": "code",
   "execution_count": 145,
   "metadata": {},
   "outputs": [
    {
     "name": "stderr",
     "output_type": "stream",
     "text": [
      "/home/maria/anaconda3/lib/python3.7/site-packages/sklearn/utils/validation.py:760: DataConversionWarning: A column-vector y was passed when a 1d array was expected. Please change the shape of y to (n_samples, ), for example using ravel().\n",
      "  y = column_or_1d(y, warn=True)\n"
     ]
    }
   ],
   "source": [
    "clf=MultinomialNB().fit(X_train,y_train)"
   ]
  },
  {
   "cell_type": "code",
   "execution_count": 231,
   "metadata": {},
   "outputs": [
    {
     "data": {
      "text/plain": [
       "0.8612473721093202"
      ]
     },
     "execution_count": 231,
     "metadata": {},
     "output_type": "execute_result"
    }
   ],
   "source": [
    "pred=clf.predict(X_test)\n",
    "accuracy_score(pred,y_test)"
   ]
  },
  {
   "cell_type": "code",
   "execution_count": 232,
   "metadata": {},
   "outputs": [
    {
     "data": {
      "text/plain": [
       "array([[662,  63],\n",
       "       [135, 567]])"
      ]
     },
     "execution_count": 232,
     "metadata": {},
     "output_type": "execute_result"
    }
   ],
   "source": [
    "confusion_matrix(y_test,pred,labels=[1,0])"
   ]
  },
  {
   "cell_type": "code",
   "execution_count": 40,
   "metadata": {
    "scrolled": true
   },
   "outputs": [],
   "source": [
    "#print(med_vocab)\n",
    "#print(reacts_vocab)\n",
    "\n",
    "tot_vocab={}\n",
    "for j in med_vocab.keys():\n",
    "    tot_vocab[med_vocab[j]]=j\n",
    "for i in reacts_vocab.keys():\n",
    "    tot_vocab[reacts_vocab[i]+len(med_vocab.keys())]=i\n",
    "#print(tot_vocab)"
   ]
  },
  {
   "cell_type": "code",
   "execution_count": 42,
   "metadata": {
    "scrolled": false
   },
   "outputs": [
    {
     "name": "stdout",
     "output_type": "stream",
     "text": [
      "(2, 11094)\n",
      "11094\n",
      "[ -8.32322695  -6.53146749  -6.37731681  -7.37876535  -5.91242828\n",
      "  -5.31331005  -7.01104057  -4.39140132  -6.8034012   -7.13364289\n",
      "  -5.89968925  -4.69698307  -6.48494747  -6.97330024  -7.43592376\n",
      "  -5.42495002  -6.90184127  -5.2993238   -5.93840376  -8.47737763\n",
      "  -7.13364289  -5.68416963  -6.74277658  -6.68561817  -8.18969556\n",
      "  -8.32322695  -8.07191253  -6.4189895   -6.90184127  -5.96507201\n",
      "  -7.32469812  -8.07191253  -8.07191253  -6.53146749  -6.20869409\n",
      "  -6.68561817  -7.78423045  -5.92533168  -7.09108327  -7.96655201\n",
      "  -8.47737763  -5.97867766  -8.18969556  -6.15826324  -7.09108327\n",
      "  -5.72584232  -6.15826324  -7.96655201  -6.15826324  -8.88284274\n",
      "  -7.22461467  -7.70418775  -8.18969556  -8.32322695  -8.32322695\n",
      "  -8.32322695  -8.32322695  -6.29884519  -8.88284274  -8.88284274\n",
      "  -6.3571141   -6.44049571  -8.07191253  -8.88284274  -7.01104057\n",
      "  -7.01104057  -9.57598992  -8.65969919  -6.48494747  -8.88284274\n",
      "  -6.46247461  -8.65969919  -6.65821919  -8.88284274  -7.01104057\n",
      "  -9.57598992  -6.65821919  -6.4189895   -5.48164536  -7.13364289\n",
      "  -8.07191253  -5.92533168  -7.43592376  -7.5610869   -5.74734853\n",
      "  -7.96655201 -10.2691371   -9.57598992  -7.05026128  -6.77262954\n",
      "  -9.17052482  -6.15826324  -6.06444448  -5.09298737  -7.70418775\n",
      "  -6.90184127  -6.4189895   -7.01104057  -7.96655201  -7.70418775]\n",
      "death\n",
      "failure\n",
      "disease\n",
      "cardiac\n",
      "haemorrhage\n",
      "decreased\n",
      "pulmonary\n",
      "drug\n",
      "respiratory\n",
      "acute\n",
      "calcium\n",
      "pain\n",
      "dianeal\n",
      "to\n",
      "progression\n",
      "disorder\n",
      "pneumonia\n",
      "increased\n",
      "infection\n",
      "arrest\n",
      "neoplasm\n",
      "blood\n",
      "malignant\n",
      "renal\n",
      "infarction\n",
      "myocardial\n",
      "revlimid\n",
      "low\n",
      "cell\n",
      "abdominal\n",
      "hepatic\n",
      "sepsis\n",
      "xeloda\n",
      "syndrome\n",
      "oedema\n",
      "gastrointestinal\n",
      "lung\n",
      "dyspnoea\n",
      "cancer\n",
      "carcinoma\n",
      "chronic\n",
      "aspirin\n",
      "toxicity\n",
      "sodium\n",
      "overdose\n",
      "of\n",
      "acid\n",
      "graft\n",
      "hydrochloride\n",
      "metastases\n",
      "acetaminophen\n",
      "dexamethasone\n",
      "shock\n",
      "agents\n",
      "host\n",
      "various\n",
      "versus\n",
      "unknown\n",
      "erlotinib\n",
      "rituximab\n",
      "use\n",
      "injury\n",
      "tracleer\n",
      "suicide\n",
      "prednisone\n",
      "hypertension\n",
      "organ\n",
      "pancreatic\n",
      "off\n",
      "with\n",
      "label\n",
      "cerebral\n",
      "asthenia\n",
      "dextrose\n",
      "hypotension\n",
      "holoxan\n",
      "omeprazole\n",
      "erbitux\n",
      "ineffective\n",
      "plavix\n",
      "tablet\n",
      "vitamin\n",
      "furosemide\n",
      "physical\n",
      "fatigue\n",
      "fentanyl\n",
      "completed\n",
      "metastatic\n",
      "thrombosis\n",
      "anaemia\n",
      "cyclophosphamide\n",
      "diarrhoea\n",
      "nausea\n",
      "letairis\n",
      "accident\n",
      "multiple\n",
      "in\n",
      "fall\n",
      "deterioration\n",
      "general\n"
     ]
    }
   ],
   "source": [
    "print(clf.feature_log_prob_.shape)\n",
    "print(len(tot_vocab.keys()))\n",
    "probs=clf.feature_log_prob_\n",
    "top_death_class=probs[1,:].argsort()[-100:][::-1]\n",
    "print(probs[0,top_death_class])\n",
    "for j in top_death_class:\n",
    "    print(tot_vocab[j])"
   ]
  },
  {
   "cell_type": "markdown",
   "metadata": {},
   "source": [
    "# K-fold crossvalidation"
   ]
  },
  {
   "cell_type": "code",
   "execution_count": 15,
   "metadata": {},
   "outputs": [
    {
     "name": "stdout",
     "output_type": "stream",
     "text": [
      "Logistic regression k-fold accuracies: [0.9099307159353349, 0.9145496535796767, 0.8891454965357968, 0.8614318706697459, 0.8680555555555556, 0.8912037037037037, 0.9027777777777778, 0.9120370370370371, 0.9027777777777778, 0.8865740740740741]\n",
      "Naive Bayes k-fold accuracies: [0.8822170900692841, 0.8637413394919169, 0.8475750577367206, 0.8498845265588915, 0.8518518518518519, 0.8611111111111112, 0.8634259259259259, 0.8773148148148148, 0.8634259259259259, 0.8773148148148148]\n"
     ]
    }
   ],
   "source": [
    "kf = KFold(n_splits=10,shuffle=True)\n",
    "\n",
    "acc_lst_lr=[]\n",
    "acc_lst_nb=[]\n",
    "for train_index, test_index in kf.split(feats):\n",
    "    \n",
    "    X_train, X_test = feats[train_index], feats[test_index]\n",
    "    y_train, y_test = targets[train_index].reshape(-1,), targets[test_index].reshape(-1,)\n",
    "    pcs=PCA(n_components=1000)\n",
    "    X_train_pcs=pcs.fit_transform(X_train)\n",
    "    X_test_pcs=pcs.transform(X_test)\n",
    "    clf = LogisticRegression(random_state=0).fit(X_train_pcs, y_train)\n",
    "    pred=clf.predict(X_test_pcs)\n",
    "    acc_lst_lr.append(accuracy_score(pred,y_test))\n",
    "    clf=MultinomialNB().fit(X_train,y_train)\n",
    "    pred=clf.predict(X_test)\n",
    "    acc_lst_nb.append(accuracy_score(pred,y_test))\n",
    "\n",
    "print('Logistic regression k-fold accuracies:', acc_lst_lr)\n",
    "print('Naive Bayes k-fold accuracies:', acc_lst_nb)\n",
    "    "
   ]
  },
  {
   "cell_type": "code",
   "execution_count": 24,
   "metadata": {
    "scrolled": false
   },
   "outputs": [
    {
     "name": "stdout",
     "output_type": "stream",
     "text": [
      "Logistic regression accuracy 95% confidence interval: 0.8848259416337891 0.9028707908955071\n",
      "Naive Bayes accuracy 95% confidence interval: 0.8577960054336116 0.8697764862266397\n"
     ]
    }
   ],
   "source": [
    "print('Logistic regression accuracy 95% confidence interval:', np.mean(acc_lst_lr)-1.654*(np.std(acc_lst_lr)/np.sqrt(10)),np.mean(acc_lst_lr)+1.654*(np.std(acc_lst_lr)/np.sqrt(10)))\n",
    "print('Naive Bayes accuracy 95% confidence interval:', np.mean(acc_lst_nb)-1.654*(np.std(acc_lst_nb)/np.sqrt(10)),np.mean(acc_lst_nb)+1.654*(np.std(acc_lst_nb)/np.sqrt(10)))"
   ]
  },
  {
   "cell_type": "markdown",
   "metadata": {},
   "source": [
    "The following t-test for testing between the differences of two mean accuracies is not valid. The samples are not independent in k-fold cross-validation. The following procedure is know to lead to a lot of Type I errors (incorrectly rejecting the null). However, we can the p-value as an approximation."
   ]
  },
  {
   "cell_type": "code",
   "execution_count": 36,
   "metadata": {},
   "outputs": [
    {
     "name": "stdout",
     "output_type": "stream",
     "text": [
      "0.0003811041062253828 0.00038110410622525554\n"
     ]
    }
   ],
   "source": [
    "#Statistical test to determine whether there is a significant difference in classification accuracies for logistic\n",
    "#regression and naive bayes\n",
    "#Calculated according to a blog post https://towardsdatascience.com/inferential-statistics-series-t-test-using-numpy-2718f8f9bf2f\n",
    "var_lr = np.array(acc_lst_lr).var(ddof=1)\n",
    "var_nb = np.array(acc_lst_nb).var(ddof=1)\n",
    "#std deviation\n",
    "s = np.sqrt((var_lr + var_nb)/2)\n",
    "## Calculate the t-statistics\n",
    "N=10\n",
    "t = (np.array(acc_lst_lr).mean() - np.array(acc_lst_nb).mean())/(s*np.sqrt(2/N))\n",
    "\n",
    "## Compare with the critical t-value\n",
    "#Degrees of freedom\n",
    "df = 2*N - 2\n",
    "\n",
    "#p-value after comparison with the t \n",
    "p = 2*(1 - stats.t.cdf(t,df=df))\n",
    "\n",
    "t2, p2 = stats.ttest_ind(np.array(acc_lst_lr),np.array(acc_lst_nb))\n",
    "print(p,p2)"
   ]
  },
  {
   "cell_type": "code",
   "execution_count": 37,
   "metadata": {},
   "outputs": [
    {
     "name": "stdout",
     "output_type": "stream",
     "text": [
      "P-value of the t-test between classification accuracies 0.0003811041062253828\n"
     ]
    }
   ],
   "source": [
    "print('P-value of the t-test between classification accuracies', p)"
   ]
  }
 ],
 "metadata": {
  "kernelspec": {
   "display_name": "Python 3",
   "language": "python",
   "name": "python3"
  },
  "language_info": {
   "codemirror_mode": {
    "name": "ipython",
    "version": 3
   },
   "file_extension": ".py",
   "mimetype": "text/x-python",
   "name": "python",
   "nbconvert_exporter": "python",
   "pygments_lexer": "ipython3",
   "version": "3.7.4"
  }
 },
 "nbformat": 4,
 "nbformat_minor": 4
}
