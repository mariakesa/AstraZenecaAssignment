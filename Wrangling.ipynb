{
 "cells": [
  {
   "cell_type": "code",
   "execution_count": 2,
   "metadata": {},
   "outputs": [],
   "source": [
    "import pandas as pd\n",
    "import requests\n",
    "import numpy as np\n",
    "from sklearn.feature_extraction.text import CountVectorizer"
   ]
  },
  {
   "cell_type": "code",
   "execution_count": 3,
   "metadata": {},
   "outputs": [],
   "source": [
    "def chunk_preprocessing(df):\n",
    "    #print(df)\n",
    "    med_lst_global=[]\n",
    "    med_str_global=[]\n",
    "    react_lst_global=[]\n",
    "    react_str_global=[]\n",
    "    for ind in range(0,df.shape[0]):\n",
    "        med_str=''\n",
    "        med_lst=[]\n",
    "        react_str=''\n",
    "        react_lst=[]\n",
    "        for medicine in df['patient'].iloc[ind]['drug']:\n",
    "            med_lst.append(medicine['medicinalproduct'])\n",
    "        for reaction in df['patient'].iloc[ind]['reaction']:\n",
    "            react_lst.append(reaction['reactionmeddrapt'])\n",
    "        #Remove duplicates using set\n",
    "        med_lst_global.append(list(set(med_lst)))\n",
    "        react_lst_global.append(list(set(react_lst)))\n",
    "        med_str_global.append(' '.join(list(set(med_lst))))\n",
    "        react_str_global.append(' '.join(list(set(react_lst))))\n",
    "    meds=zip(med_lst_global)\n",
    "    med=pd.DataFrame(meds)\n",
    "    med_df=pd.DataFrame(zip(med_str_global))\n",
    "    #print(med)\n",
    "    reacts=zip(react_lst_global)\n",
    "    react=pd.DataFrame(reacts)\n",
    "    react_df=pd.DataFrame(zip(react_str_global))\n",
    "    try:\n",
    "        ser=df['serious']\n",
    "    except:\n",
    "        ser=pd.DataFrame([np.nan]*df.shape[0])\n",
    "    try:\n",
    "        disabling=df['seriousnessdisabling']\n",
    "    except:\n",
    "        disabling=pd.DataFrame([np.nan]*df.shape[0])\n",
    "    try:\n",
    "        death=df['seriousnessdeath']\n",
    "    except:\n",
    "        death=pd.DataFrame([np.nan]*df.shape[0])\n",
    "    country=df['occurcountry']\n",
    "    df_prep=pd.concat([med,react,ser,death,disabling,country,med_df,react_df],axis=1,ignore_index=True)\n",
    "    df_prep.rename(columns={0:'medications',1:'adverse_reactions',2:'serious',3:'death',4:'disabling',5:'country',6:'meds_str',7:'reacts_str'},inplace=True)\n",
    "    flat_med_lst = []\n",
    "    #Flatten the list \n",
    "    for n, row in df_prep.iterrows():\n",
    "        for item in row['medications']:\n",
    "            row['flat_meds'] = item\n",
    "            flat_med_lst += [row.copy()]\n",
    "    flat_med_df = pd.DataFrame(flat_med_lst)\n",
    "    return df_prep, flat_med_df\n",
    "    \n",
    "\n",
    "def pull_data():\n",
    "    pull_ind=0\n",
    "    tot_df=pd.DataFrame()\n",
    "    tot_df_flat=pd.DataFrame()\n",
    "    for j in range(0,1000):\n",
    "        page = requests.get('https://api.fda.gov/drug/event.json?api_key=CNCu31wY1rTtVzadzO39zfi0iUoOjVva3b0Wf2x2&limit=100&skip='+str(j*100))\n",
    "        dat=page.json()\n",
    "        try:\n",
    "            df_chunk = pd.DataFrame(dat[\"results\"])\n",
    "        except:\n",
    "            return tot_df,tot_df_flat\n",
    "        df,df_flattened=chunk_preprocessing(df_chunk)\n",
    "        tot_df=pd.concat([tot_df,df],ignore_index=True)\n",
    "        tot_df_flat=pd.concat([tot_df_flat,df_flattened],ignore_index=True)\n",
    "    return tot_df,tot_df_flat\n",
    "\n",
    "tot_df,tot_df_flat=pull_data()"
   ]
  },
  {
   "cell_type": "code",
   "execution_count": 5,
   "metadata": {},
   "outputs": [],
   "source": [
    "tot_df.to_csv('25100_dat.csv')"
   ]
  },
  {
   "cell_type": "code",
   "execution_count": 6,
   "metadata": {},
   "outputs": [],
   "source": [
    "tot_df_flat.to_csv('25100_flat.csv')"
   ]
  },
  {
   "cell_type": "code",
   "execution_count": 4,
   "metadata": {},
   "outputs": [
    {
     "name": "stdout",
     "output_type": "stream",
     "text": [
      "                                             medications  \\\n",
      "0      [OROKEN (CEFIXIME, UNSPEC), OFLOXACIN, PYOSTAC...   \n",
      "1                                        [DURAGESIC-100]   \n",
      "2                                               [BONIVA]   \n",
      "3                                            [IBUPROFEN]   \n",
      "4                                               [LYRICA]   \n",
      "...                                                  ...   \n",
      "25095                                 [ASPIRIN., PLAVIX]   \n",
      "25096                                           [PLAVIX]   \n",
      "25097                          [IMPLANON, PARAGARD 380A]   \n",
      "25098      [FLUOROURACIL (FLUOROURACIL)  (FLUOROURACIL)]   \n",
      "25099                                          [MIRALAX]   \n",
      "\n",
      "                                       adverse_reactions serious death  \\\n",
      "0               [OEDEMA PERIPHERAL, ARTHRALGIA, PURPURA]       1   NaN   \n",
      "1                  [DRUG ADMINISTRATION ERROR, OVERDOSE]       1     1   \n",
      "2            [Vomiting, Arthralgia, Diarrhoea, Headache]       1   NaN   \n",
      "3                          [Dyspepsia, Renal impairment]       1   NaN   \n",
      "4                                     [Drug ineffective]       2   NaN   \n",
      "...                                                  ...     ...   ...   \n",
      "25095  [Gastrointestinal haemorrhage, Multiple injuries]       1   NaN   \n",
      "25096  [Gastrointestinal haemorrhage, Multiple injuries]       1   NaN   \n",
      "25097  [Abdominal discomfort, Pyrexia, Headache, Pelv...       2   NaN   \n",
      "25098                     [Off label use, Hyponatraemia]       1   NaN   \n",
      "25099  [Underdose, Product quality issue, Incorrect d...       2   NaN   \n",
      "\n",
      "      disabling country                                           meds_str  \\\n",
      "0           NaN     NaN  OROKEN (CEFIXIME, UNSPEC) OFLOXACIN PYOSTACINE...   \n",
      "1           NaN     NaN                                      DURAGESIC-100   \n",
      "2             1     NaN                                             BONIVA   \n",
      "3           NaN     NaN                                          IBUPROFEN   \n",
      "4           NaN      US                                             LYRICA   \n",
      "...         ...     ...                                                ...   \n",
      "25095       NaN      US                                    ASPIRIN. PLAVIX   \n",
      "25096       NaN      US                                             PLAVIX   \n",
      "25097       NaN      US                             IMPLANON PARAGARD 380A   \n",
      "25098       NaN     NaN        FLUOROURACIL (FLUOROURACIL)  (FLUOROURACIL)   \n",
      "25099       NaN      US                                            MIRALAX   \n",
      "\n",
      "                                              reacts_str  \n",
      "0                   OEDEMA PERIPHERAL ARTHRALGIA PURPURA  \n",
      "1                     DRUG ADMINISTRATION ERROR OVERDOSE  \n",
      "2                 Vomiting Arthralgia Diarrhoea Headache  \n",
      "3                             Dyspepsia Renal impairment  \n",
      "4                                       Drug ineffective  \n",
      "...                                                  ...  \n",
      "25095     Gastrointestinal haemorrhage Multiple injuries  \n",
      "25096     Gastrointestinal haemorrhage Multiple injuries  \n",
      "25097  Abdominal discomfort Pyrexia Headache Pelvic pain  \n",
      "25098                        Off label use Hyponatraemia  \n",
      "25099  Underdose Product quality issue Incorrect drug...  \n",
      "\n",
      "[25100 rows x 8 columns]\n"
     ]
    }
   ],
   "source": [
    "print(tot_df)"
   ]
  },
  {
   "cell_type": "code",
   "execution_count": 11,
   "metadata": {},
   "outputs": [
    {
     "name": "stdout",
     "output_type": "stream",
     "text": [
      "(25100, 8)\n"
     ]
    }
   ],
   "source": [
    "print(tot_df.shape)"
   ]
  },
  {
   "cell_type": "code",
   "execution_count": 8,
   "metadata": {},
   "outputs": [],
   "source": [
    "#Countries downloaded from 'https://developers.google.com/public-data/docs/canonical/countries_csv')\n"
   ]
  },
  {
   "cell_type": "code",
   "execution_count": 19,
   "metadata": {},
   "outputs": [
    {
     "name": "stdout",
     "output_type": "stream",
     "text": [
      "medications          [OFLOXACIN, ROCEPHIN, OROKEN (CEFIXIME, UNSPEC...\n",
      "adverse_reactions             [OEDEMA PERIPHERAL, PURPURA, ARTHRALGIA]\n",
      "serious                                                              1\n",
      "death                                                              NaN\n",
      "disabling                                                          NaN\n",
      "country                                                            NaN\n",
      "meds_str             OFLOXACIN ROCEPHIN OROKEN (CEFIXIME, UNSPEC) P...\n",
      "reacts_str                        OEDEMA PERIPHERAL PURPURA ARTHRALGIA\n",
      "Name: 0, dtype: object\n"
     ]
    }
   ],
   "source": [
    "print(tot_df.iloc[0])"
   ]
  },
  {
   "cell_type": "code",
   "execution_count": 8,
   "metadata": {
    "scrolled": true
   },
   "outputs": [
    {
     "name": "stdout",
     "output_type": "stream",
     "text": [
      "                                             medications  \\\n",
      "0      [OROKEN (CEFIXIME, UNSPEC), OFLOXACIN, PYOSTAC...   \n",
      "1      [OROKEN (CEFIXIME, UNSPEC), OFLOXACIN, PYOSTAC...   \n",
      "2      [OROKEN (CEFIXIME, UNSPEC), OFLOXACIN, PYOSTAC...   \n",
      "3      [OROKEN (CEFIXIME, UNSPEC), OFLOXACIN, PYOSTAC...   \n",
      "4                                        [DURAGESIC-100]   \n",
      "...                                                  ...   \n",
      "69448                                           [PLAVIX]   \n",
      "69449                          [IMPLANON, PARAGARD 380A]   \n",
      "69450                          [IMPLANON, PARAGARD 380A]   \n",
      "69451      [FLUOROURACIL (FLUOROURACIL)  (FLUOROURACIL)]   \n",
      "69452                                          [MIRALAX]   \n",
      "\n",
      "                                       adverse_reactions serious death  \\\n",
      "0               [OEDEMA PERIPHERAL, ARTHRALGIA, PURPURA]       1   NaN   \n",
      "1               [OEDEMA PERIPHERAL, ARTHRALGIA, PURPURA]       1   NaN   \n",
      "2               [OEDEMA PERIPHERAL, ARTHRALGIA, PURPURA]       1   NaN   \n",
      "3               [OEDEMA PERIPHERAL, ARTHRALGIA, PURPURA]       1   NaN   \n",
      "4                  [DRUG ADMINISTRATION ERROR, OVERDOSE]       1     1   \n",
      "...                                                  ...     ...   ...   \n",
      "69448  [Gastrointestinal haemorrhage, Multiple injuries]       1   NaN   \n",
      "69449  [Abdominal discomfort, Pyrexia, Headache, Pelv...       2   NaN   \n",
      "69450  [Abdominal discomfort, Pyrexia, Headache, Pelv...       2   NaN   \n",
      "69451                     [Off label use, Hyponatraemia]       1   NaN   \n",
      "69452  [Underdose, Product quality issue, Incorrect d...       2   NaN   \n",
      "\n",
      "      disabling country                                           meds_str  \\\n",
      "0           NaN     NaN  OROKEN (CEFIXIME, UNSPEC) OFLOXACIN PYOSTACINE...   \n",
      "1           NaN     NaN  OROKEN (CEFIXIME, UNSPEC) OFLOXACIN PYOSTACINE...   \n",
      "2           NaN     NaN  OROKEN (CEFIXIME, UNSPEC) OFLOXACIN PYOSTACINE...   \n",
      "3           NaN     NaN  OROKEN (CEFIXIME, UNSPEC) OFLOXACIN PYOSTACINE...   \n",
      "4           NaN     NaN                                      DURAGESIC-100   \n",
      "...         ...     ...                                                ...   \n",
      "69448       NaN      US                                             PLAVIX   \n",
      "69449       NaN      US                             IMPLANON PARAGARD 380A   \n",
      "69450       NaN      US                             IMPLANON PARAGARD 380A   \n",
      "69451       NaN     NaN        FLUOROURACIL (FLUOROURACIL)  (FLUOROURACIL)   \n",
      "69452       NaN      US                                            MIRALAX   \n",
      "\n",
      "                                              reacts_str  \\\n",
      "0                   OEDEMA PERIPHERAL ARTHRALGIA PURPURA   \n",
      "1                   OEDEMA PERIPHERAL ARTHRALGIA PURPURA   \n",
      "2                   OEDEMA PERIPHERAL ARTHRALGIA PURPURA   \n",
      "3                   OEDEMA PERIPHERAL ARTHRALGIA PURPURA   \n",
      "4                     DRUG ADMINISTRATION ERROR OVERDOSE   \n",
      "...                                                  ...   \n",
      "69448     Gastrointestinal haemorrhage Multiple injuries   \n",
      "69449  Abdominal discomfort Pyrexia Headache Pelvic pain   \n",
      "69450  Abdominal discomfort Pyrexia Headache Pelvic pain   \n",
      "69451                        Off label use Hyponatraemia   \n",
      "69452  Underdose Product quality issue Incorrect drug...   \n",
      "\n",
      "                                         flat_meds  \n",
      "0                        OROKEN (CEFIXIME, UNSPEC)  \n",
      "1                                        OFLOXACIN  \n",
      "2                       PYOSTACINE (PRISTINAMYCIN)  \n",
      "3                                         ROCEPHIN  \n",
      "4                                    DURAGESIC-100  \n",
      "...                                            ...  \n",
      "69448                                       PLAVIX  \n",
      "69449                                     IMPLANON  \n",
      "69450                                PARAGARD 380A  \n",
      "69451  FLUOROURACIL (FLUOROURACIL)  (FLUOROURACIL)  \n",
      "69452                                      MIRALAX  \n",
      "\n",
      "[69453 rows x 9 columns]\n"
     ]
    }
   ],
   "source": [
    "print(tot_df_flat)"
   ]
  },
  {
   "cell_type": "markdown",
   "metadata": {},
   "source": [
    "# NLP Analysis"
   ]
  },
  {
   "cell_type": "code",
   "execution_count": 3,
   "metadata": {},
   "outputs": [],
   "source": [
    "tot_df=pd.read_csv('25100_dat.csv')"
   ]
  },
  {
   "cell_type": "code",
   "execution_count": 6,
   "metadata": {},
   "outputs": [
    {
     "name": "stdout",
     "output_type": "stream",
     "text": [
      "[[0 0 0 ... 0 0 0]\n",
      " [0 0 0 ... 0 0 0]\n",
      " [0 0 0 ... 0 0 0]\n",
      " ...\n",
      " [0 0 0 ... 0 0 0]\n",
      " [0 0 0 ... 0 0 0]\n",
      " [0 0 0 ... 0 0 0]]\n",
      "(25100, 7980)\n"
     ]
    },
    {
     "ename": "NameError",
     "evalue": "name 'plt' is not defined",
     "output_type": "error",
     "traceback": [
      "\u001b[0;31m---------------------------------------------------------------------------\u001b[0m",
      "\u001b[0;31mNameError\u001b[0m                                 Traceback (most recent call last)",
      "\u001b[0;32m<ipython-input-6-bdfc432127f2>\u001b[0m in \u001b[0;36m<module>\u001b[0;34m\u001b[0m\n\u001b[1;32m      7\u001b[0m \u001b[0;32mimport\u001b[0m \u001b[0mseaborn\u001b[0m \u001b[0;32mas\u001b[0m \u001b[0msns\u001b[0m\u001b[0;34m\u001b[0m\u001b[0;34m\u001b[0m\u001b[0m\n\u001b[1;32m      8\u001b[0m \u001b[0msns\u001b[0m\u001b[0;34m.\u001b[0m\u001b[0mheatmap\u001b[0m\u001b[0;34m(\u001b[0m\u001b[0mX\u001b[0m\u001b[0;34m.\u001b[0m\u001b[0mtoarray\u001b[0m\u001b[0;34m(\u001b[0m\u001b[0;34m)\u001b[0m\u001b[0;34m[\u001b[0m\u001b[0;34m:\u001b[0m\u001b[0;36m100\u001b[0m\u001b[0;34m,\u001b[0m\u001b[0;34m:\u001b[0m\u001b[0;34m]\u001b[0m\u001b[0;34m)\u001b[0m\u001b[0;34m\u001b[0m\u001b[0;34m\u001b[0m\u001b[0m\n\u001b[0;32m----> 9\u001b[0;31m \u001b[0mplt\u001b[0m\u001b[0;34m.\u001b[0m\u001b[0mshow\u001b[0m\u001b[0;34m(\u001b[0m\u001b[0;34m)\u001b[0m\u001b[0;34m\u001b[0m\u001b[0;34m\u001b[0m\u001b[0m\n\u001b[0m",
      "\u001b[0;31mNameError\u001b[0m: name 'plt' is not defined"
     ]
    },
    {
     "data": {
      "image/png": "[encoded data removed]",
      "text/plain": [
       "<Figure size 432x288 with 2 Axes>"
      ]
     },
     "metadata": {
      "needs_background": "light"
     },
     "output_type": "display_data"
    }
   ],
   "source": [
    "meds_str=tot_df['meds_str']\n",
    "corpus=meds_str.values\n",
    "vectorizer = CountVectorizer()\n",
    "X = vectorizer.fit_transform(corpus)\n",
    "print(X.toarray())\n",
    "print(X.shape)\n",
    "import seaborn as sns\n",
    "sns.heatmap(X.toarray()[:100,:])\n",
    "plt.show()"
   ]
  }
 ],
 "metadata": {
  "kernelspec": {
   "display_name": "Python 3",
   "language": "python",
   "name": "python3"
  },
  "language_info": {
   "codemirror_mode": {
    "name": "ipython",
    "version": 3
   },
   "file_extension": ".py",
   "mimetype": "text/x-python",
   "name": "python",
   "nbconvert_exporter": "python",
   "pygments_lexer": "ipython3",
   "version": "3.7.4"
  }
 },
 "nbformat": 4,
 "nbformat_minor": 4
}
